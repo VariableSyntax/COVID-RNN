{
  "nbformat": 4,
  "nbformat_minor": 0,
  "metadata": {
    "colab": {
      "provenance": [],
      "toc_visible": true
    },
    "kernelspec": {
      "name": "python3",
      "display_name": "Python 3"
    },
    "accelerator": "GPU"
  },
  "cells": [
    {
      "cell_type": "markdown",
      "metadata": {
        "id": "MwN4hrz1C78k"
      },
      "source": [
        "# **Access the  Kaggle COVID-19 Challenge Datasets**\n",
        "\n",
        "### Prior to running code you must create Kaggle account, go to  \n",
        "### \"Settings\" and create an API. This will prompt you to download Kaggle.json\n",
        "\n"
      ]
    },
    {
      "cell_type": "code",
      "metadata": {
        "id": "niE_HbO9DGLA",
        "outputId": "22ffffbe-0788-4c99-af24-c2ee909ee239",
        "colab": {
          "resources": {
            "http://localhost:8080/nbextensions/google.colab/files.js": {
              "data": "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",
              "ok": true,
              "headers": [
                [
                  "content-type",
                  "application/javascript"
                ]
              ],
              "status": 200,
              "status_text": ""
            }
          },
          "base_uri": "https://localhost:8080/",
          "height": 588
        }
      },
      "source": [
        "# Upload your kaggle.json file using the following snippet in a code cell:\n",
        "from google.colab import files\n",
        "files.upload()\n",
        "\n",
        "# Install the kaggle API\n",
        "!pip install -q kaggle\n",
        "\n",
        "# Move the kaggle.json file into ~/.kaggle, which is where the API client\n",
        "# expects your token to be located:\n",
        "!mkdir -p ~/.kaggle\n",
        "!cp kaggle.json ~/.kaggle/\n",
        "\n",
        "# Access Kaggle Datasets\n",
        "!kaggle datasets list\n",
        "\n",
        "# Download COVID-19 Datasets\n",
        "!kaggle datasets download -d kimjihoo/coronavirusdataset/data-science-for-COVID-19-(DS4C)\n",
        "#!kaggle datasets download -d sudalairajkumar/novel-corona-virus-2019-dataset\n",
        "\n",
        "# Unzip dataset files\n",
        "!unzip /content/novel-corona-virus-2019-dataset.zip"
      ],
      "execution_count": null,
      "outputs": [
        {
          "output_type": "display_data",
          "data": {
            "text/html": [
              "\n",
              "     <input type=\"file\" id=\"files-15dc2c9b-ce41-4b53-8d6e-084881f679c8\" name=\"files[]\" multiple disabled />\n",
              "     <output id=\"result-15dc2c9b-ce41-4b53-8d6e-084881f679c8\">\n",
              "      Upload widget is only available when the cell has been executed in the\n",
              "      current browser session. Please rerun this cell to enable.\n",
              "      </output>\n",
              "      <script src=\"/nbextensions/google.colab/files.js\"></script> "
            ],
            "text/plain": [
              "<IPython.core.display.HTML object>"
            ]
          },
          "metadata": {
            "tags": []
          }
        },
        {
          "output_type": "stream",
          "text": [
            "Saving kaggle.json to kaggle (1).json\n",
            "Warning: Your Kaggle API key is readable by other users on this system! To fix this, you can run 'chmod 600 /root/.kaggle/kaggle.json'\n",
            "Warning: Looks like you're using an outdated API Version, please consider updating (server 1.5.6 / client 1.5.4)\n",
            "ref                                                         title                                                size  lastUpdated          downloadCount  \n",
            "----------------------------------------------------------  --------------------------------------------------  -----  -------------------  -------------  \n",
            "allen-institute-for-ai/CORD-19-research-challenge           COVID-19 Open Research Dataset Challenge (CORD-19)    2GB  2020-04-25 00:03:33          58857  \n",
            "divyansh22/us-border-crossing-data                          US Border Crossing Data                               2MB  2020-04-19 09:38:10            236  \n",
            "roche-data-science-coalition/uncover                        UNCOVER COVID-19 Challenge                          142MB  2020-04-29 22:47:23           5898  \n",
            "baltacifatih/turkish-lira-banknote-dataset                  Turkish Lira Banknote Dataset                         3GB  2020-04-19 14:48:39             20  \n",
            "doaaalsenani/usa-cers-dataset                               US Cars Dataset                                      66KB  2020-04-22 14:38:05            296  \n",
            "justinas/housing-in-london                                  Housing in London                                   169KB  2020-04-29 18:43:38            179  \n",
            "steveahn/memory-test-on-drugged-islanders-data              Memory Test on Drugged Islanders Data                 3KB  2019-08-20 18:54:37            421  \n",
            "slayomer/forbes-celebrity-100-since-2005                    Forbes Celebrity 100 since 2005 (for Racing Bar)     12KB  2020-04-26 15:51:16             47  \n",
            "mariaren/covid19-healthy-diet-dataset                       COVID-19 Healthy Diet Dataset                        82KB  2020-04-29 22:36:45            191  \n",
            "phiitm/reddit-india-flair-detector                          Reddit India Flair Detector                          48MB  2020-04-27 20:27:24              5  \n",
            "ankurzing/sentiment-analysis-for-financial-news             Sentiment Analysis for Financial News               904KB  2020-04-26 18:41:22             50  \n",
            "marcelopesse/cartier-jewelry-catalog                        Cartier Jewelry - Catalog                            22KB  2020-04-27 05:03:23             19  \n",
            "benroshan/factors-affecting-campus-placement                Campus Recruitment                                    5KB  2020-04-11 11:09:02           2115  \n",
            "bobbyscience/league-of-legends-diamond-ranked-games-10-min  League of Legends Diamond Ranked Games (10 min)     539KB  2020-04-13 13:53:02           1028  \n",
            "fireballbyedimyrnmom/us-counties-covid-19-dataset           US counties COVID 19 dataset                        834KB  2020-04-29 11:34:26           5421  \n",
            "divyansh22/flight-delay-prediction                          January Flight Delay Prediction                      23MB  2020-04-14 13:15:41            976  \n",
            "clmentbisaillon/fake-and-real-news-dataset                  Fake and real news dataset                           41MB  2020-03-26 18:51:15           2475  \n",
            "ikiulian/global-hospital-beds-capacity-for-covid19          Global Hospital Beds Capacity (for covid-19)        284KB  2020-04-26 09:39:35           1113  \n",
            "praveengovi/coronahack-chest-xraydataset                    CoronaHack -Chest X-Ray-Dataset                       1GB  2020-03-20 01:26:40           1684  \n",
            "bappekim/air-pollution-in-seoul                             Air Pollution in Seoul                               20MB  2020-04-03 16:33:49           1879  \n",
            "/bin/bash: -c: line 0: syntax error near unexpected token `('\n",
            "/bin/bash: -c: line 0: `kaggle datasets download -d kimjihoo/coronavirusdataset/data-science-for-COVID-19-(DS4C)'\n",
            "Warning: Your Kaggle API key is readable by other users on this system! To fix this, you can run 'chmod 600 /root/.kaggle/kaggle.json'\n",
            "novel-corona-virus-2019-dataset.zip: Skipping, found more recently modified local copy (use --force to force download)\n"
          ],
          "name": "stdout"
        }
      ]
    },
    {
      "cell_type": "code",
      "metadata": {
        "id": "WTUw0aQcO9O_",
        "outputId": "62e3fdcf-c674-4616-97db-2417925c5aee",
        "colab": {
          "base_uri": "https://localhost:8080/",
          "height": 52
        }
      },
      "source": [
        "import pandas as pd\n",
        "import numpy as np\n",
        "\n",
        "US_deaths = pd.read_csv('time_series_covid_19_deaths_US.csv')\n",
        "\n",
        "US_deaths = US_deaths.iloc[:,12:len(US_deaths)]\n",
        "#US_deaths\n",
        "\n",
        "US_cases = pd.read_csv('time_series_covid_19_confirmed_US.csv')\n",
        "US_cases = US_deaths.iloc[:,0:len(US_cases)]\n",
        "print(np.size(US_deaths))\n",
        "print(np.size(US_cases))\n"
      ],
      "execution_count": null,
      "outputs": [
        {
          "output_type": "stream",
          "text": [
            "319676\n",
            "319676\n"
          ],
          "name": "stdout"
        }
      ]
    },
    {
      "cell_type": "code",
      "metadata": {
        "id": "TO1aDCKCXvvq",
        "outputId": "c447863a-ee51-4db6-a9b1-fc7271415d4d",
        "colab": {
          "base_uri": "https://localhost:8080/",
          "height": 351
        }
      },
      "source": [
        "#from google.colab import files\n",
        "#files.upload()\n",
        "\n",
        "# Unzip dataset files\n",
        "!unzip /content/covid-tracking-data-master.zip\n",
        "#https://github.com/COVID19Tracking/covid-tracking-data/blob/master/data/us_daily.csv"
      ],
      "execution_count": null,
      "outputs": [
        {
          "output_type": "stream",
          "text": [
            "Archive:  /content/covid-tracking-data-master.zip\n",
            "d24f43f7e199e932d3f0c38be96a025821a7411a\n",
            "   creating: covid-tracking-data-master/\n",
            "   creating: covid-tracking-data-master/.github/\n",
            "   creating: covid-tracking-data-master/.github/workflows/\n",
            "  inflating: covid-tracking-data-master/.github/workflows/update.yml  \n",
            "  inflating: covid-tracking-data-master/.gitignore  \n",
            "  inflating: covid-tracking-data-master/LICENSE  \n",
            "  inflating: covid-tracking-data-master/README.md  \n",
            "  inflating: covid-tracking-data-master/backup_to_s3.py  \n",
            "   creating: covid-tracking-data-master/data/\n",
            "  inflating: covid-tracking-data-master/data/counties.csv  \n",
            "  inflating: covid-tracking-data-master/data/states_current.csv  \n",
            "  inflating: covid-tracking-data-master/data/states_daily_4pm_et.csv  \n",
            "  inflating: covid-tracking-data-master/data/states_info.csv  \n",
            "  inflating: covid-tracking-data-master/data/us_current.csv  \n",
            "  inflating: covid-tracking-data-master/data/us_daily.csv  \n",
            "  inflating: covid-tracking-data-master/environment.yml  \n",
            " extracting: covid-tracking-data-master/requirements.txt  \n"
          ],
          "name": "stdout"
        }
      ]
    },
    {
      "cell_type": "markdown",
      "metadata": {
        "id": "8qaeHq9B5Djc"
      },
      "source": [
        "## **Multivariate Time Step LSTM for COVID-19 Prediction**"
      ]
    },
    {
      "cell_type": "code",
      "metadata": {
        "id": "7jgxks8ktOPd",
        "outputId": "88096640-37d1-4e00-d696-4c127a1d4c40",
        "colab": {
          "base_uri": "https://localhost:8080/",
          "height": 263
        }
      },
      "source": [
        "#https://machinelearningmastery.com/multivariate-time-series-forecasting-lstms-keras/\n",
        "import pandas as pd\n",
        "import numpy as np\n",
        "from math import sqrt\n",
        "from numpy import concatenate\n",
        "from matplotlib import pyplot\n",
        "from pandas import read_csv\n",
        "from pandas import DataFrame\n",
        "from pandas import concat\n",
        "from sklearn.preprocessing import MinMaxScaler\n",
        "from sklearn.preprocessing import LabelEncoder\n",
        "from sklearn.metrics import mean_squared_error\n",
        "from keras.models import Sequential\n",
        "from keras.layers import Dense\n",
        "from keras.layers import LSTM\n",
        "from keras.optimizers import SGD\n",
        "\n",
        "# convert series to supervised learning\n",
        "def series_to_supervised(data, n_in, n_out=1, dropnan=True):\n",
        "\tn_vars = 1 if type(data) is list else data.shape[1]\n",
        "\tdf = DataFrame(data)\n",
        "\tcols, names = list(), list()\n",
        "\t# input sequence (t-n, ... t-1)\n",
        "\tfor i in range(n_in, 0, -1):\n",
        "\t\tcols.append(df.shift(i))\n",
        "\t\tnames += [('var%d(t-%d)' % (j+1, i)) for j in range(n_vars)]\n",
        "\t# forecast sequence (t, t+1, ... t+n)\n",
        "\tfor i in range(0, n_out):\n",
        "\t\tcols.append(df.shift(-i))\n",
        "\t\tif i == 0:\n",
        "\t\t\tnames += [('var%d(t)' % (j+1)) for j in range(n_vars)]\n",
        "\t\telse:\n",
        "\t\t\tnames += [('var%d(t+%d)' % (j+1, i)) for j in range(n_vars)]\n",
        "\t# put it all together\n",
        "\tagg = concat(cols, axis=1)\n",
        "\tagg.columns = names\n",
        "\t# drop rows with NaN values\n",
        "\t#if dropnan:\n",
        "\t\t#agg.dropna(inplace=True)\n",
        "\treturn agg\n",
        "\n",
        "# load dataset\n",
        "#data = pd.read_csv('/content/covid-tracking-data-master/data/us_daily.csv')\n",
        "data = pd.read_csv('/content/us_daily.csv')\n",
        "idx = data.iloc[1:,0]\n",
        "\n",
        "# concatenate dataset\n",
        "dataset = pd.DataFrame(data)\n",
        "values = np.reshape(dataset, (-1,4))\n",
        "# integer encode direction\n",
        "#encoder = LabelEncoder()\n",
        "#values.iloc[:,2]= encoder.fit_transform(values.iloc[:,2])\n",
        "# ensure all data is float\n",
        "values = values.astype('float32')\n",
        "print(values)"
      ],
      "execution_count": null,
      "outputs": [
        {
          "output_type": "stream",
          "text": [
            "     Positive    Deaths  Hospitalizations      Total\n",
            "0         1.0       0.0               0.0        1.0\n",
            "1         1.0       0.0               0.0        1.0\n",
            "2         1.0       0.0               0.0        1.0\n",
            "3         1.0       0.0               0.0        1.0\n",
            "4         1.0       0.0               0.0        1.0\n",
            "..        ...       ...               ...        ...\n",
            "94   932242.0  112783.0           48069.0  5201964.0\n",
            "95   959258.0  116801.0           49164.0  5407497.0\n",
            "96   981134.0  121609.0           50327.0  5597572.0\n",
            "97  1005592.0  139342.0           52525.0  5799934.0\n",
            "98  1033157.0  147484.0           55225.0  6031002.0\n",
            "\n",
            "[99 rows x 4 columns]\n"
          ],
          "name": "stdout"
        }
      ]
    },
    {
      "cell_type": "code",
      "metadata": {
        "id": "7wwePfm0IATy",
        "outputId": "30915e18-b6fd-4798-ca97-969fe7324f24",
        "colab": {
          "base_uri": "https://localhost:8080/",
          "height": 1000
        }
      },
      "source": [
        "import copy\n",
        "\n",
        "valuesOrig = copy.deepcopy(values)\n",
        "\n",
        "# normalize features\n",
        "scaler = MinMaxScaler(feature_range=(0, 1))\n",
        "scaled = scaler.fit_transform(values)\n",
        "# specify the number of lag days\n",
        "n_days = 2\n",
        "n_features = 4\n",
        "# frame as supervised learning\n",
        "reframed = series_to_supervised(scaled, n_days, 1)\n",
        "#print(reframed.values)\n",
        "\n",
        "# split into train and test sets\n",
        "values = reframed.values\n",
        "values = scaled[1:,:] #Gets rid of Headers\n",
        "print(values.shape)\n",
        "n_train_hours = int(80)\n",
        "train = values[:n_train_hours, :]\n",
        "test = values[n_train_hours:, :]\n",
        "print(train.shape)\n",
        "print(test.shape)\n",
        "print(train)"
      ],
      "execution_count": null,
      "outputs": [
        {
          "output_type": "stream",
          "text": [
            "(98, 4)\n",
            "(80, 4)\n",
            "(18, 4)\n",
            "[[0.00000000e+00 0.00000000e+00 0.00000000e+00 0.00000000e+00]\n",
            " [0.00000000e+00 0.00000000e+00 0.00000000e+00 0.00000000e+00]\n",
            " [0.00000000e+00 0.00000000e+00 0.00000000e+00 0.00000000e+00]\n",
            " [0.00000000e+00 0.00000000e+00 0.00000000e+00 0.00000000e+00]\n",
            " [0.00000000e+00 0.00000000e+00 0.00000000e+00 0.00000000e+00]\n",
            " [0.00000000e+00 0.00000000e+00 0.00000000e+00 0.00000000e+00]\n",
            " [0.00000000e+00 0.00000000e+00 0.00000000e+00 0.00000000e+00]\n",
            " [0.00000000e+00 0.00000000e+00 0.00000000e+00 0.00000000e+00]\n",
            " [0.00000000e+00 0.00000000e+00 0.00000000e+00 0.00000000e+00]\n",
            " [0.00000000e+00 0.00000000e+00 0.00000000e+00 0.00000000e+00]\n",
            " [0.00000000e+00 0.00000000e+00 0.00000000e+00 0.00000000e+00]\n",
            " [0.00000000e+00 0.00000000e+00 0.00000000e+00 0.00000000e+00]\n",
            " [0.00000000e+00 0.00000000e+00 0.00000000e+00 0.00000000e+00]\n",
            " [0.00000000e+00 0.00000000e+00 0.00000000e+00 0.00000000e+00]\n",
            " [0.00000000e+00 0.00000000e+00 0.00000000e+00 0.00000000e+00]\n",
            " [9.67908022e-07 0.00000000e+00 0.00000000e+00 1.65809951e-07]\n",
            " [9.67908022e-07 0.00000000e+00 0.00000000e+00 1.65809951e-07]\n",
            " [9.67908022e-07 0.00000000e+00 0.00000000e+00 1.65809951e-07]\n",
            " [9.67908022e-07 0.00000000e+00 0.00000000e+00 1.65809951e-07]\n",
            " [9.67908022e-07 0.00000000e+00 0.00000000e+00 1.65809951e-07]\n",
            " [9.67908022e-07 0.00000000e+00 0.00000000e+00 1.65809951e-07]\n",
            " [9.67908022e-07 0.00000000e+00 0.00000000e+00 1.65809951e-07]\n",
            " [9.67908022e-07 0.00000000e+00 0.00000000e+00 1.65809951e-07]\n",
            " [9.67908022e-07 0.00000000e+00 0.00000000e+00 1.65809951e-07]\n",
            " [9.67908022e-07 0.00000000e+00 0.00000000e+00 1.65809951e-07]\n",
            " [9.67908022e-07 0.00000000e+00 0.00000000e+00 1.65809951e-07]\n",
            " [9.67908022e-07 0.00000000e+00 0.00000000e+00 1.65809951e-07]\n",
            " [9.67908022e-07 0.00000000e+00 0.00000000e+00 1.65809951e-07]\n",
            " [9.67908022e-07 0.00000000e+00 0.00000000e+00 1.65809951e-07]\n",
            " [9.67908022e-07 0.00000000e+00 0.00000000e+00 1.65809951e-07]\n",
            " [9.67908022e-07 0.00000000e+00 0.00000000e+00 1.65809951e-07]\n",
            " [9.67908022e-07 0.00000000e+00 0.00000000e+00 1.65809951e-07]\n",
            " [9.67908022e-07 0.00000000e+00 0.00000000e+00 1.65809951e-07]\n",
            " [9.67908022e-07 0.00000000e+00 0.00000000e+00 1.65809951e-07]\n",
            " [9.67908022e-07 0.00000000e+00 3.62154824e-05 1.65809951e-07]\n",
            " [9.67908022e-07 0.00000000e+00 3.62154824e-05 1.65809951e-07]\n",
            " [7.74326418e-06 0.00000000e+00 7.24309648e-05 1.32647961e-06]\n",
            " [1.64544363e-05 0.00000000e+00 9.05387060e-05 6.63239780e-06]\n",
            " [3.77484103e-05 0.00000000e+00 1.44861930e-04 1.98971939e-05]\n",
            " [5.03312149e-05 0.00000000e+00 1.99185160e-04 4.65925987e-05]\n",
            " [9.00154482e-05 0.00000000e+00 2.53508391e-04 8.72160308e-05]\n",
            " [1.99389047e-04 0.00000000e+00 2.89723859e-04 2.81711109e-04]\n",
            " [2.65206792e-04 0.00000000e+00 3.62154824e-04 3.95290932e-04]\n",
            " [3.73612507e-04 0.00000000e+00 4.70801257e-04 5.70386183e-04]\n",
            " [5.19766589e-04 0.00000000e+00 4.88909020e-04 7.21936522e-04]\n",
            " [6.96893723e-04 0.00000000e+00 5.61339955e-04 8.24075425e-04]\n",
            " [9.79522942e-04 0.00000000e+00 6.33770949e-04 1.11623260e-03]\n",
            " [1.23795436e-03 0.00000000e+00 6.69986417e-04 1.54203258e-03]\n",
            " [1.61737436e-03 0.00000000e+00 7.78632879e-04 2.17907433e-03]\n",
            " [2.07229122e-03 0.00000000e+00 9.23494808e-04 3.04907933e-03]\n",
            " [2.90662772e-03 0.00000000e+00 9.95925744e-04 4.62642917e-03]\n",
            " [3.63739836e-03 0.00000000e+00 1.14078773e-03 5.39313443e-03]\n",
            " [4.68661031e-03 0.00000000e+00 1.39429606e-03 6.82971207e-03]\n",
            " [5.93230827e-03 0.00000000e+00 1.77455868e-03 9.66672041e-03]\n",
            " [8.02105386e-03 0.00000000e+00 2.17292900e-03 1.22541841e-02]\n",
            " [1.05153527e-02 0.00000000e+00 2.62562255e-03 1.64786913e-02]\n",
            " [1.45786311e-02 0.00000000e+00 3.42236320e-03 2.11031307e-02]\n",
            " [2.01702341e-02 0.00000000e+00 4.58125863e-03 2.71510482e-02]\n",
            " [2.64926106e-02 0.00000000e+00 5.54096885e-03 3.45944203e-02]\n",
            " [3.51670012e-02 0.00000000e+00 7.89497513e-03 4.18852493e-02]\n",
            " [4.55032922e-02 0.00000000e+00 9.43413284e-03 5.33035845e-02]\n",
            " [5.53430431e-02 0.00000000e+00 1.31281121e-02 6.46574274e-02]\n",
            " [6.72425032e-02 9.96718300e-04 1.72566772e-02 8.46025422e-02]\n",
            " [8.40028003e-02 6.57698489e-04 2.22906303e-02 1.02755412e-01]\n",
            " [1.02076545e-01 1.64221209e-02 2.90448163e-02 1.19818918e-01]\n",
            " [1.20808475e-01 2.13446897e-02 3.69035751e-02 1.38055354e-01]\n",
            " [1.39665261e-01 2.75351908e-02 4.57582623e-02 1.52748778e-01]\n",
            " [1.60208136e-01 3.09186094e-02 5.54096885e-02 1.72193974e-01]\n",
            " [1.83899626e-01 3.84177268e-02 7.02037141e-02 1.89644307e-01]\n",
            " [2.08270580e-01 4.80323285e-02 8.73336345e-02 2.07506850e-01]\n",
            " [2.35428140e-01 5.82164861e-02 1.07270256e-01 2.27479488e-01]\n",
            " [2.66400248e-01 7.36418888e-02 1.28782257e-01 2.49384806e-01]\n",
            " [2.98842579e-01 8.70602950e-02 1.53680399e-01 2.79626876e-01]\n",
            " [3.23975295e-01 9.86005291e-02 1.75898597e-01 2.99755037e-01]\n",
            " [3.51799726e-01 1.12446100e-01 1.98044360e-01 3.24744254e-01]\n",
            " [3.81232858e-01 1.25281394e-01 2.32521504e-01 3.49949032e-01]\n",
            " [4.10435617e-01 1.43344373e-01 2.66853780e-01 3.74008715e-01]\n",
            " [4.43552583e-01 1.68621689e-01 3.01656872e-01 4.01572287e-01]\n",
            " [4.76989925e-01 1.96997643e-01 3.39538246e-01 4.27696973e-01]\n",
            " [5.05912006e-01 2.14470729e-01 3.74576747e-01 4.50529844e-01]]\n"
          ],
          "name": "stdout"
        }
      ]
    },
    {
      "cell_type": "code",
      "metadata": {
        "id": "SD-IzjyTIIO3",
        "outputId": "1af6f0d2-2544-47c1-9d8e-999b97a257aa",
        "colab": {
          "base_uri": "https://localhost:8080/",
          "height": 1000
        }
      },
      "source": [
        "# split into input and outputs\n",
        "n_obs = n_days * n_features\n",
        "train_X, train_y = train[:, :n_obs], train[:, -n_features]\n",
        "test_X, test_y = test[:, :n_obs], test[:, -n_features]\n",
        "print(train_X.shape, train_y.shape, test_X.shape, test_y.shape)\n",
        "print(train_X)\n",
        "print(train_y)"
      ],
      "execution_count": null,
      "outputs": [
        {
          "output_type": "stream",
          "text": [
            "(80, 4) (80,) (18, 4) (18,)\n",
            "[[0.00000000e+00 0.00000000e+00 0.00000000e+00 0.00000000e+00]\n",
            " [0.00000000e+00 0.00000000e+00 0.00000000e+00 0.00000000e+00]\n",
            " [0.00000000e+00 0.00000000e+00 0.00000000e+00 0.00000000e+00]\n",
            " [0.00000000e+00 0.00000000e+00 0.00000000e+00 0.00000000e+00]\n",
            " [0.00000000e+00 0.00000000e+00 0.00000000e+00 0.00000000e+00]\n",
            " [0.00000000e+00 0.00000000e+00 0.00000000e+00 0.00000000e+00]\n",
            " [0.00000000e+00 0.00000000e+00 0.00000000e+00 0.00000000e+00]\n",
            " [0.00000000e+00 0.00000000e+00 0.00000000e+00 0.00000000e+00]\n",
            " [0.00000000e+00 0.00000000e+00 0.00000000e+00 0.00000000e+00]\n",
            " [0.00000000e+00 0.00000000e+00 0.00000000e+00 0.00000000e+00]\n",
            " [0.00000000e+00 0.00000000e+00 0.00000000e+00 0.00000000e+00]\n",
            " [0.00000000e+00 0.00000000e+00 0.00000000e+00 0.00000000e+00]\n",
            " [0.00000000e+00 0.00000000e+00 0.00000000e+00 0.00000000e+00]\n",
            " [0.00000000e+00 0.00000000e+00 0.00000000e+00 0.00000000e+00]\n",
            " [0.00000000e+00 0.00000000e+00 0.00000000e+00 0.00000000e+00]\n",
            " [9.67908022e-07 0.00000000e+00 0.00000000e+00 1.65809951e-07]\n",
            " [9.67908022e-07 0.00000000e+00 0.00000000e+00 1.65809951e-07]\n",
            " [9.67908022e-07 0.00000000e+00 0.00000000e+00 1.65809951e-07]\n",
            " [9.67908022e-07 0.00000000e+00 0.00000000e+00 1.65809951e-07]\n",
            " [9.67908022e-07 0.00000000e+00 0.00000000e+00 1.65809951e-07]\n",
            " [9.67908022e-07 0.00000000e+00 0.00000000e+00 1.65809951e-07]\n",
            " [9.67908022e-07 0.00000000e+00 0.00000000e+00 1.65809951e-07]\n",
            " [9.67908022e-07 0.00000000e+00 0.00000000e+00 1.65809951e-07]\n",
            " [9.67908022e-07 0.00000000e+00 0.00000000e+00 1.65809951e-07]\n",
            " [9.67908022e-07 0.00000000e+00 0.00000000e+00 1.65809951e-07]\n",
            " [9.67908022e-07 0.00000000e+00 0.00000000e+00 1.65809951e-07]\n",
            " [9.67908022e-07 0.00000000e+00 0.00000000e+00 1.65809951e-07]\n",
            " [9.67908022e-07 0.00000000e+00 0.00000000e+00 1.65809951e-07]\n",
            " [9.67908022e-07 0.00000000e+00 0.00000000e+00 1.65809951e-07]\n",
            " [9.67908022e-07 0.00000000e+00 0.00000000e+00 1.65809951e-07]\n",
            " [9.67908022e-07 0.00000000e+00 0.00000000e+00 1.65809951e-07]\n",
            " [9.67908022e-07 0.00000000e+00 0.00000000e+00 1.65809951e-07]\n",
            " [9.67908022e-07 0.00000000e+00 0.00000000e+00 1.65809951e-07]\n",
            " [9.67908022e-07 0.00000000e+00 0.00000000e+00 1.65809951e-07]\n",
            " [9.67908022e-07 0.00000000e+00 3.62154824e-05 1.65809951e-07]\n",
            " [9.67908022e-07 0.00000000e+00 3.62154824e-05 1.65809951e-07]\n",
            " [7.74326418e-06 0.00000000e+00 7.24309648e-05 1.32647961e-06]\n",
            " [1.64544363e-05 0.00000000e+00 9.05387060e-05 6.63239780e-06]\n",
            " [3.77484103e-05 0.00000000e+00 1.44861930e-04 1.98971939e-05]\n",
            " [5.03312149e-05 0.00000000e+00 1.99185160e-04 4.65925987e-05]\n",
            " [9.00154482e-05 0.00000000e+00 2.53508391e-04 8.72160308e-05]\n",
            " [1.99389047e-04 0.00000000e+00 2.89723859e-04 2.81711109e-04]\n",
            " [2.65206792e-04 0.00000000e+00 3.62154824e-04 3.95290932e-04]\n",
            " [3.73612507e-04 0.00000000e+00 4.70801257e-04 5.70386183e-04]\n",
            " [5.19766589e-04 0.00000000e+00 4.88909020e-04 7.21936522e-04]\n",
            " [6.96893723e-04 0.00000000e+00 5.61339955e-04 8.24075425e-04]\n",
            " [9.79522942e-04 0.00000000e+00 6.33770949e-04 1.11623260e-03]\n",
            " [1.23795436e-03 0.00000000e+00 6.69986417e-04 1.54203258e-03]\n",
            " [1.61737436e-03 0.00000000e+00 7.78632879e-04 2.17907433e-03]\n",
            " [2.07229122e-03 0.00000000e+00 9.23494808e-04 3.04907933e-03]\n",
            " [2.90662772e-03 0.00000000e+00 9.95925744e-04 4.62642917e-03]\n",
            " [3.63739836e-03 0.00000000e+00 1.14078773e-03 5.39313443e-03]\n",
            " [4.68661031e-03 0.00000000e+00 1.39429606e-03 6.82971207e-03]\n",
            " [5.93230827e-03 0.00000000e+00 1.77455868e-03 9.66672041e-03]\n",
            " [8.02105386e-03 0.00000000e+00 2.17292900e-03 1.22541841e-02]\n",
            " [1.05153527e-02 0.00000000e+00 2.62562255e-03 1.64786913e-02]\n",
            " [1.45786311e-02 0.00000000e+00 3.42236320e-03 2.11031307e-02]\n",
            " [2.01702341e-02 0.00000000e+00 4.58125863e-03 2.71510482e-02]\n",
            " [2.64926106e-02 0.00000000e+00 5.54096885e-03 3.45944203e-02]\n",
            " [3.51670012e-02 0.00000000e+00 7.89497513e-03 4.18852493e-02]\n",
            " [4.55032922e-02 0.00000000e+00 9.43413284e-03 5.33035845e-02]\n",
            " [5.53430431e-02 0.00000000e+00 1.31281121e-02 6.46574274e-02]\n",
            " [6.72425032e-02 9.96718300e-04 1.72566772e-02 8.46025422e-02]\n",
            " [8.40028003e-02 6.57698489e-04 2.22906303e-02 1.02755412e-01]\n",
            " [1.02076545e-01 1.64221209e-02 2.90448163e-02 1.19818918e-01]\n",
            " [1.20808475e-01 2.13446897e-02 3.69035751e-02 1.38055354e-01]\n",
            " [1.39665261e-01 2.75351908e-02 4.57582623e-02 1.52748778e-01]\n",
            " [1.60208136e-01 3.09186094e-02 5.54096885e-02 1.72193974e-01]\n",
            " [1.83899626e-01 3.84177268e-02 7.02037141e-02 1.89644307e-01]\n",
            " [2.08270580e-01 4.80323285e-02 8.73336345e-02 2.07506850e-01]\n",
            " [2.35428140e-01 5.82164861e-02 1.07270256e-01 2.27479488e-01]\n",
            " [2.66400248e-01 7.36418888e-02 1.28782257e-01 2.49384806e-01]\n",
            " [2.98842579e-01 8.70602950e-02 1.53680399e-01 2.79626876e-01]\n",
            " [3.23975295e-01 9.86005291e-02 1.75898597e-01 2.99755037e-01]\n",
            " [3.51799726e-01 1.12446100e-01 1.98044360e-01 3.24744254e-01]\n",
            " [3.81232858e-01 1.25281394e-01 2.32521504e-01 3.49949032e-01]\n",
            " [4.10435617e-01 1.43344373e-01 2.66853780e-01 3.74008715e-01]\n",
            " [4.43552583e-01 1.68621689e-01 3.01656872e-01 4.01572287e-01]\n",
            " [4.76989925e-01 1.96997643e-01 3.39538246e-01 4.27696973e-01]\n",
            " [5.05912006e-01 2.14470729e-01 3.74576747e-01 4.50529844e-01]]\n",
            "[0.00000000e+00 0.00000000e+00 0.00000000e+00 0.00000000e+00\n",
            " 0.00000000e+00 0.00000000e+00 0.00000000e+00 0.00000000e+00\n",
            " 0.00000000e+00 0.00000000e+00 0.00000000e+00 0.00000000e+00\n",
            " 0.00000000e+00 0.00000000e+00 0.00000000e+00 9.67908022e-07\n",
            " 9.67908022e-07 9.67908022e-07 9.67908022e-07 9.67908022e-07\n",
            " 9.67908022e-07 9.67908022e-07 9.67908022e-07 9.67908022e-07\n",
            " 9.67908022e-07 9.67908022e-07 9.67908022e-07 9.67908022e-07\n",
            " 9.67908022e-07 9.67908022e-07 9.67908022e-07 9.67908022e-07\n",
            " 9.67908022e-07 9.67908022e-07 9.67908022e-07 9.67908022e-07\n",
            " 7.74326418e-06 1.64544363e-05 3.77484103e-05 5.03312149e-05\n",
            " 9.00154482e-05 1.99389047e-04 2.65206792e-04 3.73612507e-04\n",
            " 5.19766589e-04 6.96893723e-04 9.79522942e-04 1.23795436e-03\n",
            " 1.61737436e-03 2.07229122e-03 2.90662772e-03 3.63739836e-03\n",
            " 4.68661031e-03 5.93230827e-03 8.02105386e-03 1.05153527e-02\n",
            " 1.45786311e-02 2.01702341e-02 2.64926106e-02 3.51670012e-02\n",
            " 4.55032922e-02 5.53430431e-02 6.72425032e-02 8.40028003e-02\n",
            " 1.02076545e-01 1.20808475e-01 1.39665261e-01 1.60208136e-01\n",
            " 1.83899626e-01 2.08270580e-01 2.35428140e-01 2.66400248e-01\n",
            " 2.98842579e-01 3.23975295e-01 3.51799726e-01 3.81232858e-01\n",
            " 4.10435617e-01 4.43552583e-01 4.76989925e-01 5.05912006e-01]\n"
          ],
          "name": "stdout"
        }
      ]
    },
    {
      "cell_type": "code",
      "metadata": {
        "id": "DX7j35RoIJpV",
        "outputId": "9bce89ac-0f21-4cc1-bc4b-0531991208cd",
        "colab": {
          "base_uri": "https://localhost:8080/",
          "height": 492
        }
      },
      "source": [
        "# reshape input to be 3D [samples, timesteps, features]\n",
        "train_X = train_X.reshape((int(train_X.shape[0]/n_days), n_days, n_features))\n",
        "train_y = train_y.reshape(int(train_y.shape[0]/n_days), n_days)\n",
        "test_X = test_X.reshape((int(test_X.shape[0]/n_days), n_days, n_features))\n",
        "test_y = test_y.reshape(int(test_y.shape[0]/n_days), n_days)\n",
        "print(train_X.shape, train_y.shape, test_X.shape, test_y.shape)\n",
        "print(test_X)"
      ],
      "execution_count": null,
      "outputs": [
        {
          "output_type": "stream",
          "text": [
            "(40, 2, 4) (40, 2) (9, 2, 4) (9, 2)\n",
            "[[[0.5341933  0.23155732 0.40266183 0.47400752]\n",
            "  [0.558361   0.24031082 0.4301313  0.4961818 ]]\n",
            "\n",
            " [[0.5833262  0.26678827 0.4719964  0.52103204]\n",
            "  [0.6127932  0.29509643 0.5172295  0.54376775]]\n",
            "\n",
            " [[0.6428148  0.3318665  0.556306   0.57065415]\n",
            "  [0.6734317  0.3637276  0.5936623  0.5958377 ]]\n",
            "\n",
            " [[0.70054764 0.42690057 0.62574923 0.619272  ]\n",
            "  [0.7271758  0.45658514 0.6559348  0.6471075 ]]\n",
            "\n",
            " [[0.7515012  0.4721597  0.6865188  0.6703582 ]\n",
            "  [0.7765807  0.4949825  0.7328384  0.6948977 ]]\n",
            "\n",
            " [[0.80357856 0.53043044 0.7697239  0.7470312 ]\n",
            "  [0.8341306  0.5573079  0.80371207 0.7788798 ]]\n",
            "\n",
            " [[0.86754084 0.6883255  0.8375011  0.8174079 ]\n",
            "  [0.90232354 0.76471347 0.870421   0.8625372 ]]\n",
            "\n",
            " [[0.9284726  0.79195714 0.890249   0.89661664]\n",
            "  [0.94964653 0.82455724 0.9113083  0.92813295]]\n",
            "\n",
            " [[0.9733196  0.94479406 0.9511091  0.9616866 ]\n",
            "  [1.         1.         1.         0.99999994]]]\n"
          ],
          "name": "stdout"
        }
      ]
    },
    {
      "cell_type": "code",
      "metadata": {
        "id": "a-fz4epEIM1J",
        "outputId": "bb7aa634-42ff-47b6-eb26-82d20e014b2d",
        "colab": {
          "base_uri": "https://localhost:8080/",
          "height": 246
        }
      },
      "source": [
        "# design network\n",
        "model = Sequential()\n",
        "model.add(LSTM(100, input_shape=(train_X.shape[1], train_X.shape[2])))\n",
        "model.add(Dense(1))\n",
        "model.compile(loss='mae', metrics=['accuracy'], optimizer='adam')\n",
        "print(model.summary())"
      ],
      "execution_count": null,
      "outputs": [
        {
          "output_type": "stream",
          "text": [
            "Model: \"sequential_8\"\n",
            "_________________________________________________________________\n",
            "Layer (type)                 Output Shape              Param #   \n",
            "=================================================================\n",
            "lstm_7 (LSTM)                (None, 100)               42000     \n",
            "_________________________________________________________________\n",
            "dense_6 (Dense)              (None, 1)                 101       \n",
            "=================================================================\n",
            "Total params: 42,101\n",
            "Trainable params: 42,101\n",
            "Non-trainable params: 0\n",
            "_________________________________________________________________\n",
            "None\n"
          ],
          "name": "stdout"
        }
      ]
    },
    {
      "cell_type": "code",
      "metadata": {
        "id": "kPfJ_CyQbrNB",
        "outputId": "f2dc5b97-8698-4ca6-9f87-03239642ebed",
        "colab": {
          "base_uri": "https://localhost:8080/",
          "height": 405
        }
      },
      "source": [
        "# fit network\n",
        "history = model.fit(train_X, train_y, epochs=250, batch_size=72, validation_data=(test_X, test_y), verbose=2, shuffle=False)\n",
        "# save model to single file\n",
        "#model.save('filename.h5')\n",
        "# plot history\n",
        "pyplot.title('Train and Test Loss')\n",
        "pyplot.plot(history.history['loss'], color='blue', label='train')\n",
        "pyplot.plot(history.history['val_loss'], color='orange', label='test')\n",
        "pyplot.legend()\n",
        "pyplot.show()\n",
        "# plot accuracy\n",
        "pyplot.title('Model Accuracy')\n",
        "pyplot.plot(history.history['accuracy'], color='blue', label='train')\n",
        "pyplot.plot(history.history['val_accuracy'], color='orange', label='test')\n",
        "pyplot.legend()\n",
        "pyplot.show()"
      ],
      "execution_count": null,
      "outputs": [
        {
          "output_type": "error",
          "ename": "ValueError",
          "evalue": "ignored",
          "traceback": [
            "\u001b[0;31m---------------------------------------------------------------------------\u001b[0m",
            "\u001b[0;31mValueError\u001b[0m                                Traceback (most recent call last)",
            "\u001b[0;32m<ipython-input-81-174018397f3e>\u001b[0m in \u001b[0;36m<module>\u001b[0;34m()\u001b[0m\n\u001b[1;32m      1\u001b[0m \u001b[0;31m# fit network\u001b[0m\u001b[0;34m\u001b[0m\u001b[0;34m\u001b[0m\u001b[0;34m\u001b[0m\u001b[0m\n\u001b[0;32m----> 2\u001b[0;31m \u001b[0mhistory\u001b[0m \u001b[0;34m=\u001b[0m \u001b[0mmodel\u001b[0m\u001b[0;34m.\u001b[0m\u001b[0mfit\u001b[0m\u001b[0;34m(\u001b[0m\u001b[0mtrain_X\u001b[0m\u001b[0;34m,\u001b[0m \u001b[0mtrain_y\u001b[0m\u001b[0;34m,\u001b[0m \u001b[0mepochs\u001b[0m\u001b[0;34m=\u001b[0m\u001b[0;36m250\u001b[0m\u001b[0;34m,\u001b[0m \u001b[0mbatch_size\u001b[0m\u001b[0;34m=\u001b[0m\u001b[0;36m72\u001b[0m\u001b[0;34m,\u001b[0m \u001b[0mvalidation_data\u001b[0m\u001b[0;34m=\u001b[0m\u001b[0;34m(\u001b[0m\u001b[0mtest_X\u001b[0m\u001b[0;34m,\u001b[0m \u001b[0mtest_y\u001b[0m\u001b[0;34m)\u001b[0m\u001b[0;34m,\u001b[0m \u001b[0mverbose\u001b[0m\u001b[0;34m=\u001b[0m\u001b[0;36m2\u001b[0m\u001b[0;34m,\u001b[0m \u001b[0mshuffle\u001b[0m\u001b[0;34m=\u001b[0m\u001b[0;32mFalse\u001b[0m\u001b[0;34m)\u001b[0m\u001b[0;34m\u001b[0m\u001b[0;34m\u001b[0m\u001b[0m\n\u001b[0m\u001b[1;32m      3\u001b[0m \u001b[0;31m# save model to single file\u001b[0m\u001b[0;34m\u001b[0m\u001b[0;34m\u001b[0m\u001b[0;34m\u001b[0m\u001b[0m\n\u001b[1;32m      4\u001b[0m \u001b[0;31m#model.save('filename.h5')\u001b[0m\u001b[0;34m\u001b[0m\u001b[0;34m\u001b[0m\u001b[0;34m\u001b[0m\u001b[0m\n\u001b[1;32m      5\u001b[0m \u001b[0;31m# plot history\u001b[0m\u001b[0;34m\u001b[0m\u001b[0;34m\u001b[0m\u001b[0;34m\u001b[0m\u001b[0m\n",
            "\u001b[0;32m/usr/local/lib/python3.6/dist-packages/keras/engine/training.py\u001b[0m in \u001b[0;36mfit\u001b[0;34m(self, x, y, batch_size, epochs, verbose, callbacks, validation_split, validation_data, shuffle, class_weight, sample_weight, initial_epoch, steps_per_epoch, validation_steps, validation_freq, max_queue_size, workers, use_multiprocessing, **kwargs)\u001b[0m\n\u001b[1;32m   1152\u001b[0m             \u001b[0msample_weight\u001b[0m\u001b[0;34m=\u001b[0m\u001b[0msample_weight\u001b[0m\u001b[0;34m,\u001b[0m\u001b[0;34m\u001b[0m\u001b[0;34m\u001b[0m\u001b[0m\n\u001b[1;32m   1153\u001b[0m             \u001b[0mclass_weight\u001b[0m\u001b[0;34m=\u001b[0m\u001b[0mclass_weight\u001b[0m\u001b[0;34m,\u001b[0m\u001b[0;34m\u001b[0m\u001b[0;34m\u001b[0m\u001b[0m\n\u001b[0;32m-> 1154\u001b[0;31m             batch_size=batch_size)\n\u001b[0m\u001b[1;32m   1155\u001b[0m \u001b[0;34m\u001b[0m\u001b[0m\n\u001b[1;32m   1156\u001b[0m         \u001b[0;31m# Prepare validation data.\u001b[0m\u001b[0;34m\u001b[0m\u001b[0;34m\u001b[0m\u001b[0;34m\u001b[0m\u001b[0m\n",
            "\u001b[0;32m/usr/local/lib/python3.6/dist-packages/keras/engine/training.py\u001b[0m in \u001b[0;36m_standardize_user_data\u001b[0;34m(self, x, y, sample_weight, class_weight, check_array_lengths, batch_size)\u001b[0m\n\u001b[1;32m    619\u001b[0m                 \u001b[0mfeed_output_shapes\u001b[0m\u001b[0;34m,\u001b[0m\u001b[0;34m\u001b[0m\u001b[0;34m\u001b[0m\u001b[0m\n\u001b[1;32m    620\u001b[0m                 \u001b[0mcheck_batch_axis\u001b[0m\u001b[0;34m=\u001b[0m\u001b[0;32mFalse\u001b[0m\u001b[0;34m,\u001b[0m  \u001b[0;31m# Don't enforce the batch size.\u001b[0m\u001b[0;34m\u001b[0m\u001b[0;34m\u001b[0m\u001b[0m\n\u001b[0;32m--> 621\u001b[0;31m                 exception_prefix='target')\n\u001b[0m\u001b[1;32m    622\u001b[0m \u001b[0;34m\u001b[0m\u001b[0m\n\u001b[1;32m    623\u001b[0m             \u001b[0;31m# Generate sample-wise weight values given the `sample_weight` and\u001b[0m\u001b[0;34m\u001b[0m\u001b[0;34m\u001b[0m\u001b[0;34m\u001b[0m\u001b[0m\n",
            "\u001b[0;32m/usr/local/lib/python3.6/dist-packages/keras/engine/training_utils.py\u001b[0m in \u001b[0;36mstandardize_input_data\u001b[0;34m(data, names, shapes, check_batch_axis, exception_prefix)\u001b[0m\n\u001b[1;32m    143\u001b[0m                             \u001b[0;34m': expected '\u001b[0m \u001b[0;34m+\u001b[0m \u001b[0mnames\u001b[0m\u001b[0;34m[\u001b[0m\u001b[0mi\u001b[0m\u001b[0;34m]\u001b[0m \u001b[0;34m+\u001b[0m \u001b[0;34m' to have shape '\u001b[0m \u001b[0;34m+\u001b[0m\u001b[0;34m\u001b[0m\u001b[0;34m\u001b[0m\u001b[0m\n\u001b[1;32m    144\u001b[0m                             \u001b[0mstr\u001b[0m\u001b[0;34m(\u001b[0m\u001b[0mshape\u001b[0m\u001b[0;34m)\u001b[0m \u001b[0;34m+\u001b[0m \u001b[0;34m' but got array with shape '\u001b[0m \u001b[0;34m+\u001b[0m\u001b[0;34m\u001b[0m\u001b[0;34m\u001b[0m\u001b[0m\n\u001b[0;32m--> 145\u001b[0;31m                             str(data_shape))\n\u001b[0m\u001b[1;32m    146\u001b[0m     \u001b[0;32mreturn\u001b[0m \u001b[0mdata\u001b[0m\u001b[0;34m\u001b[0m\u001b[0;34m\u001b[0m\u001b[0m\n\u001b[1;32m    147\u001b[0m \u001b[0;34m\u001b[0m\u001b[0m\n",
            "\u001b[0;31mValueError\u001b[0m: Error when checking target: expected dense_6 to have shape (1,) but got array with shape (2,)"
          ]
        }
      ]
    },
    {
      "cell_type": "code",
      "metadata": {
        "id": "KZ69LeBD4AsJ",
        "outputId": "d6fb3077-1c39-44b5-e446-bad98defbf41",
        "colab": {
          "base_uri": "https://localhost:8080/",
          "height": 663
        }
      },
      "source": [
        "# make a prediction in comparison to test data\n",
        "yhat = model.predict(test_X)\n",
        "# reshape test_X back to 2D\n",
        "test_X = test_X.reshape((test_X.shape[0], n_days*n_features))\n",
        "print(yhat) #Needs to be inverse scaled back to original format to make sense"
      ],
      "execution_count": null,
      "outputs": [
        {
          "output_type": "stream",
          "text": [
            "[[0.5141188 ]\n",
            " [0.5415613 ]\n",
            " [0.5652679 ]\n",
            " [0.59344566]\n",
            " [0.62275946]\n",
            " [0.6540042 ]\n",
            " [0.6836314 ]\n",
            " [0.71329397]\n",
            " [0.7405901 ]\n",
            " [0.763403  ]\n",
            " [0.78819156]\n",
            " [0.8248308 ]\n",
            " [0.853511  ]\n",
            " [0.89298505]\n",
            " [0.93018985]\n",
            " [0.9555236 ]\n",
            " [0.977964  ]\n",
            " [1.0067236 ]\n",
            " [1.0340436 ]]\n",
            "[[0.505912   0.21447073 0.37457675 0.45052984]\n",
            " [0.5341933  0.23155732 0.40266183 0.47400752]\n",
            " [0.558361   0.24031082 0.4301313  0.4961818 ]\n",
            " [0.5833262  0.26678827 0.4719964  0.52103204]\n",
            " [0.6127932  0.29509643 0.5172295  0.54376775]\n",
            " [0.6428148  0.3318665  0.556306   0.57065415]\n",
            " [0.6734317  0.3637276  0.5936623  0.5958377 ]\n",
            " [0.70054764 0.42690057 0.62574923 0.619272  ]\n",
            " [0.7271758  0.45658514 0.6559348  0.6471075 ]\n",
            " [0.7515012  0.4721597  0.6865188  0.6703582 ]\n",
            " [0.7765807  0.4949825  0.7328384  0.6948977 ]\n",
            " [0.80357856 0.53043044 0.7697239  0.7470312 ]\n",
            " [0.8341306  0.5573079  0.80371207 0.7788798 ]\n",
            " [0.86754084 0.6883255  0.8375011  0.8174079 ]\n",
            " [0.90232354 0.76471347 0.870421   0.8625372 ]\n",
            " [0.9284726  0.79195714 0.890249   0.89661664]\n",
            " [0.94964653 0.82455724 0.9113083  0.92813295]\n",
            " [0.9733196  0.94479406 0.9511091  0.9616866 ]\n",
            " [1.         1.         1.         0.99999994]]\n"
          ],
          "name": "stdout"
        }
      ]
    },
    {
      "cell_type": "code",
      "metadata": {
        "id": "MccSPBj5rYva",
        "outputId": "edd36a55-61d8-4741-ace3-d576b6715d44",
        "colab": {
          "base_uri": "https://localhost:8080/",
          "height": 850
        }
      },
      "source": [
        "import statistics as stat\n",
        "# invert scaling for forecast\n",
        "inv_yhat = concatenate((yhat, test_X[:, -3:]), axis=1)\n",
        "inv_yhat = scaler.inverse_transform(inv_yhat)\n",
        "print('Inverse scale of forecast data')\n",
        "print(inv_yhat)\n",
        "inv_yhat = inv_yhat[:,0] #column to be predicted output\n",
        "# invert scaling for actual\n",
        "test_y = test_y.reshape((len(test_y), 1))\n",
        "inv_y = concatenate((test_y, test_X[:, -3:]), axis=1)\n",
        "inv_y = scaler.inverse_transform(inv_y)\n",
        "print('Inverse scale of actual')\n",
        "print(inv_y)\n",
        "inv_y = inv_y[:,0]\n",
        "# calculate RMSE\n",
        "scaled_err = stat.mean(abs(inv_y-inv_yhat)/inv_y * 100)\n",
        "print('Test Percentage Error: %.3f' % scaled_err)\n",
        "print(inv_yhat)\n",
        "print(inv_y)"
      ],
      "execution_count": null,
      "outputs": [
        {
          "output_type": "stream",
          "text": [
            "Inverse scale of forecast data\n",
            "[[ 531165.94    31631.      20686.    2717147.   ]\n",
            " [ 559518.3     34151.      22237.    2858741.   ]\n",
            " [ 584010.94    35442.      23754.    2992474.   ]\n",
            " [ 613122.94    39347.      26066.    3142345.8  ]\n",
            " [ 643408.7     43522.      28563.998 3279465.   ]\n",
            " [ 675689.4     48945.      30721.998 3441617.   ]\n",
            " [ 706298.9     53644.      32785.    3593499.   ]\n",
            " [ 736944.94    62961.      34557.    3734831.2  ]\n",
            " [ 765146.1     67339.      36224.    3902707.   ]\n",
            " [ 788715.4     69636.      37913.    4042932.   ]\n",
            " [ 814325.8     73002.      40471.    4190930.   ]\n",
            " [ 852179.9     78230.      42508.    4505347.   ]\n",
            " [ 881811.      82194.      44385.    4697426.   ]\n",
            " [ 922593.9    101517.      46251.    4929789.   ]\n",
            " [ 961032.25   112783.      48069.    5201964.   ]\n",
            " [ 987205.94   116801.      49164.    5407497.   ]\n",
            " [1010390.4    121609.      50327.    5597572.   ]\n",
            " [1040103.56   139342.      52525.    5799934.   ]\n",
            " [1068329.2    147484.      55225.    6031002.   ]]\n",
            "Inverse scale of actual\n",
            "[[ 522687.03    31631.      20686.    2717147.   ]\n",
            " [ 551906.      34151.      22237.    2858741.   ]\n",
            " [ 576875.      35442.      23754.    2992474.   ]\n",
            " [ 602668.      39347.      26066.    3142345.8  ]\n",
            " [ 633112.      43522.      28563.998 3279465.   ]\n",
            " [ 664129.      48945.      30721.998 3441617.   ]\n",
            " [ 695761.      53644.      32785.    3593499.   ]\n",
            " [ 723776.      62961.      34557.    3734831.2  ]\n",
            " [ 751287.      67339.      36224.    3902707.   ]\n",
            " [ 776419.      69636.      37913.    4042932.   ]\n",
            " [ 802330.      73002.      40471.    4190930.   ]\n",
            " [ 830223.      78230.      42508.    4505347.   ]\n",
            " [ 861788.      82194.      44385.    4697426.   ]\n",
            " [ 896306.     101517.      46251.    4929789.   ]\n",
            " [ 932242.     112783.      48069.    5201964.   ]\n",
            " [ 959258.     116801.      49164.    5407497.   ]\n",
            " [ 981134.     121609.      50327.    5597572.   ]\n",
            " [1005592.     139342.      52525.    5799934.   ]\n",
            " [1033157.     147484.      55225.    6031002.   ]]\n",
            "Test Percentage Error: 2.175\n",
            "[ 531165.94  559518.3   584010.94  613122.94  643408.7   675689.4\n",
            "  706298.9   736944.94  765146.1   788715.4   814325.8   852179.9\n",
            "  881811.    922593.9   961032.25  987205.94 1010390.4  1040103.56\n",
            " 1068329.2 ]\n",
            "[ 522687.03  551906.    576875.    602668.    633112.    664129.\n",
            "  695761.    723776.    751287.    776419.    802330.    830223.\n",
            "  861788.    896306.    932242.    959258.    981134.   1005592.\n",
            " 1033157.  ]\n"
          ],
          "name": "stdout"
        }
      ]
    },
    {
      "cell_type": "code",
      "metadata": {
        "id": "OEi76sHbg7bV",
        "outputId": "5bf38762-3c08-410f-87b8-bd67e10cc446",
        "colab": {
          "base_uri": "https://localhost:8080/",
          "height": 545
        }
      },
      "source": [
        "pyplot.title('Model Accuracy')\n",
        "time = np.arange(1,20)\n",
        "time = time.reshape(19,)\n",
        "pyplot.plot(time, inv_y, color='blue', label='actual')\n",
        "pyplot.plot(time, inv_yhat, color='orange', label='prediction')\n",
        "pyplot.legend()\n",
        "pyplot.show()\n",
        "\n",
        "pyplot.title('Model Accuracy2')\n",
        "time = np.arange(98)\n",
        "actual = values\n",
        "prediction = [train_y, inv_yhat]\n",
        "pyplot.plot(time, actual[:,0], color='blue', label='positive')\n",
        "pyplot.plot(time, actual[:,1], color='red', label='deaths')\n",
        "# pyplot.plot(time, prediction, color='orange', label='prediction')\n",
        "pyplot.legend()\n",
        "pyplot.show()"
      ],
      "execution_count": null,
      "outputs": [
        {
          "output_type": "display_data",
          "data": {
            "image/png": "[encoded data removed]",
            "text/plain": [
              "<Figure size 432x288 with 1 Axes>"
            ]
          },
          "metadata": {
            "tags": [],
            "needs_background": "light"
          }
        },
        {
          "output_type": "display_data",
          "data": {
            "image/png": "[encoded data removed]",
            "text/plain": [
              "<Figure size 432x288 with 1 Axes>"
            ]
          },
          "metadata": {
            "tags": [],
            "needs_background": "light"
          }
        }
      ]
    },
    {
      "cell_type": "code",
      "metadata": {
        "id": "zVlB2lPwnxK4",
        "outputId": "e6614b7e-5cd6-4194-fa1f-6ae68e987d4c",
        "colab": {
          "base_uri": "https://localhost:8080/",
          "height": 281
        }
      },
      "source": [
        "pyplot.title('Model Accuracy2')\n",
        "time = np.arange(99)\n",
        "actual = valuesOrig # from deepcopy\n",
        "prediction = [train_y, inv_yhat]\n",
        "pyplot.plot(time, actual.iloc[:,0], color='blue', label='positive')\n",
        "# pyplot.plot(time, actual.iloc[:,1], color='red', label='deaths')\n",
        "# pyplot.plot(time, actual.iloc[:,2], color='orange', label='Hospitalized')\n",
        "# pyplot.plot(time, actual.iloc[:,3], color='black', label='total')\n",
        "# pyplot.plot(time, prediction, color='orange', label='prediction')\n",
        "time2 = np.arange(80, 99) # match the last days of the data\n",
        "pyplot.plot(time2, inv_yhat, color='orange', label='prediction')\n",
        "pyplot.legend()\n",
        "pyplot.show()"
      ],
      "execution_count": null,
      "outputs": [
        {
          "output_type": "display_data",
          "data": {
            "image/png": "[encoded data removed]",
            "text/plain": [
              "<Figure size 432x288 with 1 Axes>"
            ]
          },
          "metadata": {
            "tags": [],
            "needs_background": "light"
          }
        }
      ]
    },
    {
      "cell_type": "code",
      "metadata": {
        "id": "IZ8i5bC4zSVo"
      },
      "source": [],
      "execution_count": null,
      "outputs": []
    }
  ]
}